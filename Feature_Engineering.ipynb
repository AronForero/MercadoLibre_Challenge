{
 "cells": [
  {
   "cell_type": "markdown",
   "metadata": {
    "colab_type": "text",
    "id": "_5daLh2JN2xH"
   },
   "source": [
    "# Extracción de caracteristicas del texto"
   ]
  },
  {
   "cell_type": "code",
   "execution_count": 3,
   "metadata": {
    "colab": {
     "base_uri": "https://localhost:8080/",
     "height": 122
    },
    "colab_type": "code",
    "executionInfo": {
     "elapsed": 20770,
     "status": "ok",
     "timestamp": 1569502714218,
     "user": {
      "displayName": "Aron Forero",
      "photoUrl": "https://lh3.googleusercontent.com/a-/AAuE7mADqC--FsExpomg7Szbjzl1DD9XSkypQABEzpWv4g=s64",
      "userId": "13295970136254896431"
     },
     "user_tz": 300
    },
    "id": "RJq-V3GnODWT",
    "outputId": "b2572b24-f2a1-4a73-ccf8-82452cd7f330"
   },
   "outputs": [
    {
     "name": "stdout",
     "output_type": "stream",
     "text": [
      "Go to this URL in a browser: https://accounts.google.com/o/oauth2/auth?client_id=947318989803-6bn6qk8qdgf4n4g3pfee6491hc0brc4i.apps.googleusercontent.com&redirect_uri=urn%3Aietf%3Awg%3Aoauth%3A2.0%3Aoob&scope=email%20https%3A%2F%2Fwww.googleapis.com%2Fauth%2Fdocs.test%20https%3A%2F%2Fwww.googleapis.com%2Fauth%2Fdrive%20https%3A%2F%2Fwww.googleapis.com%2Fauth%2Fdrive.photos.readonly%20https%3A%2F%2Fwww.googleapis.com%2Fauth%2Fpeopleapi.readonly&response_type=code\n",
      "\n",
      "Enter your authorization code:\n",
      "··········\n",
      "Mounted at /content/drive\n"
     ]
    }
   ],
   "source": [
    "from google.colab import drive\n",
    "drive.mount('/content/drive')"
   ]
  },
  {
   "cell_type": "code",
   "execution_count": 0,
   "metadata": {
    "colab": {},
    "colab_type": "code",
    "id": "AO-JV2MXO-xi"
   },
   "outputs": [],
   "source": [
    "import pandas as pd\n",
    "import nltk\n",
    "from nltk.stem import WordNetLemmatizer\n",
    "from nltk.corpus import stopwords\n",
    "\n",
    "ROOT_PATH = '/content/drive/My Drive/Meli-Challenge/'"
   ]
  },
  {
   "cell_type": "code",
   "execution_count": 0,
   "metadata": {
    "colab": {},
    "colab_type": "code",
    "id": "ZermY_H9OHnb"
   },
   "outputs": [],
   "source": [
    "# data = pd.read_csv('train.csv')\n",
    "data = pd.read_csv(ROOT_PATH + 'train2.csv')"
   ]
  },
  {
   "cell_type": "code",
   "execution_count": 0,
   "metadata": {
    "colab": {
     "base_uri": "https://localhost:8080/",
     "height": 272
    },
    "colab_type": "code",
    "executionInfo": {
     "elapsed": 44375,
     "status": "ok",
     "timestamp": 1569077221777,
     "user": {
      "displayName": "Aron Forero",
      "photoUrl": "https://lh3.googleusercontent.com/a-/AAuE7mADqC--FsExpomg7Szbjzl1DD9XSkypQABEzpWv4g=s64",
      "userId": "13295970136254896431"
     },
     "user_tz": 300
    },
    "id": "u1GPNm39O9zH",
    "outputId": "a892f818-34a8-4f3e-b21c-a7ee4c6f3eed"
   },
   "outputs": [
    {
     "data": {
      "text/html": [
       "<div>\n",
       "<style scoped>\n",
       "    .dataframe tbody tr th:only-of-type {\n",
       "        vertical-align: middle;\n",
       "    }\n",
       "\n",
       "    .dataframe tbody tr th {\n",
       "        vertical-align: top;\n",
       "    }\n",
       "\n",
       "    .dataframe thead th {\n",
       "        text-align: right;\n",
       "    }\n",
       "</style>\n",
       "<table border=\"1\" class=\"dataframe\">\n",
       "  <thead>\n",
       "    <tr style=\"text-align: right;\">\n",
       "      <th></th>\n",
       "      <th>Unnamed: 0</th>\n",
       "      <th>title</th>\n",
       "      <th>label_quality</th>\n",
       "      <th>language</th>\n",
       "      <th>category</th>\n",
       "      <th>length</th>\n",
       "    </tr>\n",
       "  </thead>\n",
       "  <tbody>\n",
       "    <tr>\n",
       "      <th>0</th>\n",
       "      <td>0</td>\n",
       "      <td>Hidrolavadora Lavor One 120 Bar 1700w  Bomba A...</td>\n",
       "      <td>unreliable</td>\n",
       "      <td>spanish</td>\n",
       "      <td>ELECTRIC_PRESSURE_WASHERS</td>\n",
       "      <td>60</td>\n",
       "    </tr>\n",
       "    <tr>\n",
       "      <th>1</th>\n",
       "      <td>1</td>\n",
       "      <td>Placa De Sonido - Behringer Umc22</td>\n",
       "      <td>unreliable</td>\n",
       "      <td>spanish</td>\n",
       "      <td>SOUND_CARDS</td>\n",
       "      <td>33</td>\n",
       "    </tr>\n",
       "    <tr>\n",
       "      <th>2</th>\n",
       "      <td>2</td>\n",
       "      <td>Maquina De Lavar Electrolux 12 Kilos</td>\n",
       "      <td>unreliable</td>\n",
       "      <td>portuguese</td>\n",
       "      <td>WASHING_MACHINES</td>\n",
       "      <td>36</td>\n",
       "    </tr>\n",
       "    <tr>\n",
       "      <th>3</th>\n",
       "      <td>3</td>\n",
       "      <td>Par Disco De Freio Diant Vent Gol 8v 08/ Frema...</td>\n",
       "      <td>unreliable</td>\n",
       "      <td>portuguese</td>\n",
       "      <td>VEHICLE_BRAKE_DISCS</td>\n",
       "      <td>54</td>\n",
       "    </tr>\n",
       "    <tr>\n",
       "      <th>4</th>\n",
       "      <td>4</td>\n",
       "      <td>Flashes Led Pestañas Luminoso Falso Pestañas P...</td>\n",
       "      <td>unreliable</td>\n",
       "      <td>spanish</td>\n",
       "      <td>FALSE_EYELASHES</td>\n",
       "      <td>58</td>\n",
       "    </tr>\n",
       "  </tbody>\n",
       "</table>\n",
       "</div>"
      ],
      "text/plain": [
       "   Unnamed: 0  ... length\n",
       "0           0  ...     60\n",
       "1           1  ...     33\n",
       "2           2  ...     36\n",
       "3           3  ...     54\n",
       "4           4  ...     58\n",
       "\n",
       "[5 rows x 6 columns]"
      ]
     },
     "execution_count": 9,
     "metadata": {
      "tags": []
     },
     "output_type": "execute_result"
    }
   ],
   "source": [
    "data.head()"
   ]
  },
  {
   "cell_type": "code",
   "execution_count": 0,
   "metadata": {
    "colab": {
     "base_uri": "https://localhost:8080/",
     "height": 34
    },
    "colab_type": "code",
    "executionInfo": {
     "elapsed": 343,
     "status": "ok",
     "timestamp": 1569078234439,
     "user": {
      "displayName": "Aron Forero",
      "photoUrl": "https://lh3.googleusercontent.com/a-/AAuE7mADqC--FsExpomg7Szbjzl1DD9XSkypQABEzpWv4g=s64",
      "userId": "13295970136254896431"
     },
     "user_tz": 300
    },
    "id": "gLGAqxS6PXho",
    "outputId": "7c151480-4ea1-4927-b73f-77b31659723a"
   },
   "outputs": [
    {
     "data": {
      "text/plain": [
       "'Cabina Secadora Uñas Uv Led 72 W Timer Display Esculpidas Gelificadas Acrílicas Semipermanente'"
      ]
     },
     "execution_count": 11,
     "metadata": {
      "tags": []
     },
     "output_type": "execute_result"
    }
   ],
   "source": [
    "data[data['length'] > 80].iloc[25]['title']"
   ]
  },
  {
   "cell_type": "markdown",
   "metadata": {
    "colab_type": "text",
    "id": "njW_7v9QPX45"
   },
   "source": [
    "## Text Cleaning\n",
    "\n",
    "* Dejar todo en minuscula\n",
    "* Quitar tildes\n",
    "* Quitar caracteres de puntuacion"
   ]
  },
  {
   "cell_type": "code",
   "execution_count": 0,
   "metadata": {
    "colab": {},
    "colab_type": "code",
    "id": "XxLKLN4vPX7s"
   },
   "outputs": [],
   "source": [
    "data['title'] = data['title'].str.lower()\n",
    "l = ['á', 'é', 'í', 'ó', 'ú']\n",
    "l2 = ['a', 'e', 'i', 'o', 'u']\n",
    "for i in range(5):\n",
    "  data['title'] = data['title'].str.replace(l[i], l2[i])\n",
    "  \n",
    "signos = list(\"?:!.,;\")\n",
    "for i in signos:\n",
    "  data['title'] = data['title'].str.replace(i, '')"
   ]
  },
  {
   "cell_type": "markdown",
   "metadata": {
    "colab_type": "text",
    "id": "V7J6xFG0Y64V"
   },
   "source": [
    "## Lemmatization"
   ]
  },
  {
   "cell_type": "code",
   "execution_count": 0,
   "metadata": {
    "colab": {
     "base_uri": "https://localhost:8080/",
     "height": 102
    },
    "colab_type": "code",
    "executionInfo": {
     "elapsed": 1911,
     "status": "ok",
     "timestamp": 1569078538163,
     "user": {
      "displayName": "Aron Forero",
      "photoUrl": "https://lh3.googleusercontent.com/a-/AAuE7mADqC--FsExpomg7Szbjzl1DD9XSkypQABEzpWv4g=s64",
      "userId": "13295970136254896431"
     },
     "user_tz": 300
    },
    "id": "a3U-WOCvPYAb",
    "outputId": "b75ee8d1-9075-40a0-ed80-c08564e6379e"
   },
   "outputs": [
    {
     "name": "stdout",
     "output_type": "stream",
     "text": [
      "[nltk_data] Downloading package punkt to /root/nltk_data...\n",
      "[nltk_data]   Unzipping tokenizers/punkt.zip.\n",
      "[nltk_data] Downloading package wordnet to /root/nltk_data...\n",
      "[nltk_data]   Unzipping corpora/wordnet.zip.\n"
     ]
    },
    {
     "data": {
      "text/plain": [
       "True"
      ]
     },
     "execution_count": 14,
     "metadata": {
      "tags": []
     },
     "output_type": "execute_result"
    }
   ],
   "source": [
    "nltk.download('punkt')\n",
    "nltk.download('wordnet')"
   ]
  },
  {
   "cell_type": "code",
   "execution_count": 0,
   "metadata": {
    "colab": {},
    "colab_type": "code",
    "id": "WYfuO1sXPYCy"
   },
   "outputs": [],
   "source": [
    "lemmatizer = WordNetLemmatizer()"
   ]
  },
  {
   "cell_type": "code",
   "execution_count": 0,
   "metadata": {
    "colab": {},
    "colab_type": "code",
    "id": "vPceFtn1PX-Q"
   },
   "outputs": [],
   "source": [
    "nrows = data.shape[0]\n",
    "lemmatized_text_list = []\n",
    "\n",
    "for row in range(nrows):\n",
    "  lemmatized_list = []\n",
    "  \n",
    "  # 3 pasos, primero separar el titulo en palabras\n",
    "  text = data.loc[row]['title']\n",
    "  text_words = text.split(' ')\n",
    "  \n",
    "  # siguiente paso es lematizar cada palabra\n",
    "  for word in text_words:\n",
    "    lemmatized_list.append(lemmatizer.lemmatize(word, pos=\"v\"))\n",
    "    \n",
    "  # ultimo: unir en una sola frase las palabras lematizadas\n",
    "  lemmatized_text = \" \".join(lemmatized_list)\n",
    "  \n",
    "  lemmatized_text_list.append(lemmatized_text)"
   ]
  },
  {
   "cell_type": "code",
   "execution_count": 0,
   "metadata": {
    "colab": {},
    "colab_type": "code",
    "id": "9f6MV7thaUt6"
   },
   "outputs": [],
   "source": [
    "data['lemmatized_title'] = lemmatized_text_list"
   ]
  },
  {
   "cell_type": "code",
   "execution_count": 0,
   "metadata": {
    "colab": {},
    "colab_type": "code",
    "id": "PSEjbh4TvJxD"
   },
   "outputs": [],
   "source": [
    "data.pop('Unnamed: 0');"
   ]
  },
  {
   "cell_type": "code",
   "execution_count": 0,
   "metadata": {
    "colab": {
     "base_uri": "https://localhost:8080/",
     "height": 340
    },
    "colab_type": "code",
    "executionInfo": {
     "elapsed": 377,
     "status": "ok",
     "timestamp": 1569084861426,
     "user": {
      "displayName": "Aron Forero",
      "photoUrl": "https://lh3.googleusercontent.com/a-/AAuE7mADqC--FsExpomg7Szbjzl1DD9XSkypQABEzpWv4g=s64",
      "userId": "13295970136254896431"
     },
     "user_tz": 300
    },
    "id": "kmOV9kdNvt3j",
    "outputId": "67b0d30a-f8b6-41ee-94ab-84bf27b02dc8"
   },
   "outputs": [
    {
     "data": {
      "text/html": [
       "<div>\n",
       "<style scoped>\n",
       "    .dataframe tbody tr th:only-of-type {\n",
       "        vertical-align: middle;\n",
       "    }\n",
       "\n",
       "    .dataframe tbody tr th {\n",
       "        vertical-align: top;\n",
       "    }\n",
       "\n",
       "    .dataframe thead th {\n",
       "        text-align: right;\n",
       "    }\n",
       "</style>\n",
       "<table border=\"1\" class=\"dataframe\">\n",
       "  <thead>\n",
       "    <tr style=\"text-align: right;\">\n",
       "      <th></th>\n",
       "      <th>title</th>\n",
       "      <th>label_quality</th>\n",
       "      <th>language</th>\n",
       "      <th>category</th>\n",
       "      <th>length</th>\n",
       "      <th>lemmatized_title</th>\n",
       "    </tr>\n",
       "  </thead>\n",
       "  <tbody>\n",
       "    <tr>\n",
       "      <th>0</th>\n",
       "      <td>hidrolavadora lavor one 120 bar 1700w  bomba a...</td>\n",
       "      <td>unreliable</td>\n",
       "      <td>spanish</td>\n",
       "      <td>ELECTRIC_PRESSURE_WASHERS</td>\n",
       "      <td>60</td>\n",
       "      <td>hidrolavadora lavor one 120 bar 1700w  bomba a...</td>\n",
       "    </tr>\n",
       "    <tr>\n",
       "      <th>1</th>\n",
       "      <td>placa de sonido - behringer umc22</td>\n",
       "      <td>unreliable</td>\n",
       "      <td>spanish</td>\n",
       "      <td>SOUND_CARDS</td>\n",
       "      <td>33</td>\n",
       "      <td>placa de sonido - behringer umc22</td>\n",
       "    </tr>\n",
       "    <tr>\n",
       "      <th>2</th>\n",
       "      <td>maquina de lavar electrolux 12 kilos</td>\n",
       "      <td>unreliable</td>\n",
       "      <td>portuguese</td>\n",
       "      <td>WASHING_MACHINES</td>\n",
       "      <td>36</td>\n",
       "      <td>maquina de lavar electrolux 12 kilos</td>\n",
       "    </tr>\n",
       "    <tr>\n",
       "      <th>3</th>\n",
       "      <td>par disco de freio diant vent gol 8v 08/ frema...</td>\n",
       "      <td>unreliable</td>\n",
       "      <td>portuguese</td>\n",
       "      <td>VEHICLE_BRAKE_DISCS</td>\n",
       "      <td>54</td>\n",
       "      <td>par disco de freio diant vent gol 8v 08/ frema...</td>\n",
       "    </tr>\n",
       "    <tr>\n",
       "      <th>4</th>\n",
       "      <td>flashes led pestañas luminoso falso pestañas p...</td>\n",
       "      <td>unreliable</td>\n",
       "      <td>spanish</td>\n",
       "      <td>FALSE_EYELASHES</td>\n",
       "      <td>58</td>\n",
       "      <td>flash lead pestañas luminoso falso pestañas pa...</td>\n",
       "    </tr>\n",
       "  </tbody>\n",
       "</table>\n",
       "</div>"
      ],
      "text/plain": [
       "                                               title  ...                                   lemmatized_title\n",
       "0  hidrolavadora lavor one 120 bar 1700w  bomba a...  ...  hidrolavadora lavor one 120 bar 1700w  bomba a...\n",
       "1                  placa de sonido - behringer umc22  ...                  placa de sonido - behringer umc22\n",
       "2               maquina de lavar electrolux 12 kilos  ...               maquina de lavar electrolux 12 kilos\n",
       "3  par disco de freio diant vent gol 8v 08/ frema...  ...  par disco de freio diant vent gol 8v 08/ frema...\n",
       "4  flashes led pestañas luminoso falso pestañas p...  ...  flash lead pestañas luminoso falso pestañas pa...\n",
       "\n",
       "[5 rows x 6 columns]"
      ]
     },
     "execution_count": 22,
     "metadata": {
      "tags": []
     },
     "output_type": "execute_result"
    }
   ],
   "source": [
    "data.head()"
   ]
  },
  {
   "cell_type": "markdown",
   "metadata": {
    "colab_type": "text",
    "id": "RDH3boUYwvqO"
   },
   "source": [
    "Despues de mas de una hora se lematizo esa monda!"
   ]
  },
  {
   "cell_type": "code",
   "execution_count": 0,
   "metadata": {
    "colab": {},
    "colab_type": "code",
    "id": "4Hp68SsDu3Xz"
   },
   "outputs": [],
   "source": [
    "data.to_csv(ROOT_PATH + 'train3_lemmatized.csv')"
   ]
  },
  {
   "cell_type": "markdown",
   "metadata": {
    "colab_type": "text",
    "id": "p26evn2wvyQI"
   },
   "source": [
    "_____"
   ]
  },
  {
   "cell_type": "markdown",
   "metadata": {
    "colab_type": "text",
    "id": "AZlq8EOhML5a"
   },
   "source": [
    "# Stop Words"
   ]
  },
  {
   "cell_type": "code",
   "execution_count": 0,
   "metadata": {
    "colab": {},
    "colab_type": "code",
    "id": "qjbtJnqOML8g"
   },
   "outputs": [],
   "source": [
    "lemmatized_data = pd.read_csv(ROOT_PATH + 'train3_lemmatized.csv', sep=',')"
   ]
  },
  {
   "cell_type": "code",
   "execution_count": 0,
   "metadata": {
    "colab": {},
    "colab_type": "code",
    "id": "YYhYbFNZMMAH"
   },
   "outputs": [],
   "source": [
    "lemmatized_data.pop('Unnamed: 0');"
   ]
  },
  {
   "cell_type": "code",
   "execution_count": 0,
   "metadata": {
    "colab": {
     "base_uri": "https://localhost:8080/",
     "height": 68
    },
    "colab_type": "code",
    "executionInfo": {
     "elapsed": 688,
     "status": "ok",
     "timestamp": 1569329470330,
     "user": {
      "displayName": "Aron Forero",
      "photoUrl": "https://lh3.googleusercontent.com/a-/AAuE7mADqC--FsExpomg7Szbjzl1DD9XSkypQABEzpWv4g=s64",
      "userId": "13295970136254896431"
     },
     "user_tz": 300
    },
    "id": "kvm1adEkX5R0",
    "outputId": "120e6da7-db38-4b90-bf6f-fe13b9c4b690"
   },
   "outputs": [
    {
     "data": {
      "text/plain": [
       "Index(['title', 'label_quality', 'language', 'category', 'length',\n",
       "       'lemmatized_title'],\n",
       "      dtype='object')"
      ]
     },
     "execution_count": 5,
     "metadata": {
      "tags": []
     },
     "output_type": "execute_result"
    }
   ],
   "source": [
    "lemmatized_data.columns"
   ]
  },
  {
   "cell_type": "code",
   "execution_count": 0,
   "metadata": {
    "colab": {},
    "colab_type": "code",
    "id": "3iTioMYNU3Fq"
   },
   "outputs": [],
   "source": [
    "spanish_data = lemmatized_data.loc[lemmatized_data[lemmatized_data['language'] == 'spanish'].index]\n",
    "portuguese_data = lemmatized_data.loc[lemmatized_data[lemmatized_data['language'] == 'portuguese'].index]"
   ]
  },
  {
   "cell_type": "code",
   "execution_count": 0,
   "metadata": {
    "colab": {
     "base_uri": "https://localhost:8080/",
     "height": 68
    },
    "colab_type": "code",
    "executionInfo": {
     "elapsed": 731,
     "status": "ok",
     "timestamp": 1569330005035,
     "user": {
      "displayName": "Aron Forero",
      "photoUrl": "https://lh3.googleusercontent.com/a-/AAuE7mADqC--FsExpomg7Szbjzl1DD9XSkypQABEzpWv4g=s64",
      "userId": "13295970136254896431"
     },
     "user_tz": 300
    },
    "id": "7JcDYU7IMMDH",
    "outputId": "8dc8259f-0801-4105-84f4-93dd222de631"
   },
   "outputs": [
    {
     "name": "stdout",
     "output_type": "stream",
     "text": [
      "[nltk_data] Downloading package stopwords to /root/nltk_data...\n",
      "[nltk_data]   Unzipping corpora/stopwords.zip.\n"
     ]
    },
    {
     "data": {
      "text/plain": [
       "True"
      ]
     },
     "execution_count": 9,
     "metadata": {
      "tags": []
     },
     "output_type": "execute_result"
    }
   ],
   "source": [
    "nltk.download('stopwords')"
   ]
  },
  {
   "cell_type": "markdown",
   "metadata": {
    "colab_type": "text",
    "id": "xD2MG_iRLKuS"
   },
   "source": [
    "**Stop words of Spanish**"
   ]
  },
  {
   "cell_type": "code",
   "execution_count": 0,
   "metadata": {
    "colab": {},
    "colab_type": "code",
    "id": "wGRY7X1XMMF_"
   },
   "outputs": [],
   "source": [
    "stop_words = list(stopwords.words('spanish'))"
   ]
  },
  {
   "cell_type": "code",
   "execution_count": 0,
   "metadata": {
    "colab": {},
    "colab_type": "code",
    "id": "2IkMK7ZBMMIx"
   },
   "outputs": [],
   "source": [
    "spanish_data['parsed_title'] = spanish_data['lemmatized_title']\n",
    "\n",
    "for stop_word in stop_words:\n",
    "  \n",
    "  regex_exp = r\"\\b\" + stop_word + r\"\\b\"\n",
    "  spanish_data['parsed_title'] = spanish_data['parsed_title'].str.replace(regex_exp, '')"
   ]
  },
  {
   "cell_type": "markdown",
   "metadata": {
    "colab_type": "text",
    "id": "A53gRDtkLGhY"
   },
   "source": [
    "**Stop words of Portuguese!**\n",
    "\n",
    "Rebooting the environment"
   ]
  },
  {
   "cell_type": "code",
   "execution_count": 0,
   "metadata": {
    "colab": {},
    "colab_type": "code",
    "id": "ypUpNKHLNM4t"
   },
   "outputs": [],
   "source": [
    "stop_words_portugues = list(stopwords.words('portuguese'))"
   ]
  },
  {
   "cell_type": "code",
   "execution_count": 0,
   "metadata": {
    "colab": {},
    "colab_type": "code",
    "id": "Kk5BPlPDJAl-"
   },
   "outputs": [],
   "source": [
    "portuguese_data['parsed_title'] = portuguese_data['lemmatized_title']\n",
    "\n",
    "for stop_word in stop_words_portugues:\n",
    "  \n",
    "  regex_exp = r\"\\b\" + stop_word + r\"\\b\"\n",
    "  portuguese_data['parsed_title'] = portuguese_data['parsed_title'].str.replace(regex_exp, '')"
   ]
  },
  {
   "cell_type": "code",
   "execution_count": 0,
   "metadata": {
    "colab": {},
    "colab_type": "code",
    "id": "C2OZDhyY9kZG"
   },
   "outputs": [],
   "source": [
    "spanish_data.to_csv(ROOT_PATH + 'spanish_data.csv')"
   ]
  },
  {
   "cell_type": "code",
   "execution_count": 0,
   "metadata": {
    "colab": {},
    "colab_type": "code",
    "id": "kn7Lp9Y45pnp"
   },
   "outputs": [],
   "source": [
    "portuguese_data.to_csv(ROOT_PATH + 'portuguese_data.csv')"
   ]
  },
  {
   "cell_type": "markdown",
   "metadata": {
    "colab_type": "text",
    "id": "PATLUW8iXsh2"
   },
   "source": [
    "## Label Encoding"
   ]
  },
  {
   "cell_type": "code",
   "execution_count": 0,
   "metadata": {
    "colab": {},
    "colab_type": "code",
    "id": "xE-CMoXsXski"
   },
   "outputs": [],
   "source": [
    "from sklearn.preprocessing import LabelEncoder"
   ]
  },
  {
   "cell_type": "code",
   "execution_count": 0,
   "metadata": {
    "colab": {},
    "colab_type": "code",
    "id": "0dI732kFXsm5"
   },
   "outputs": [],
   "source": [
    "label_encoder = LabelEncoder()"
   ]
  },
  {
   "cell_type": "code",
   "execution_count": 0,
   "metadata": {
    "colab": {},
    "colab_type": "code",
    "id": "DEmhVx1Fk-7G"
   },
   "outputs": [],
   "source": [
    "spanish_data = pd.read_csv(ROOT_PATH + 'spanish_data.csv')"
   ]
  },
  {
   "cell_type": "code",
   "execution_count": 0,
   "metadata": {
    "colab": {},
    "colab_type": "code",
    "id": "FuqI_zvAk7i6"
   },
   "outputs": [],
   "source": [
    "portuguese_data = pd.read_csv(ROOT_PATH + 'portuguese_data.csv')"
   ]
  },
  {
   "cell_type": "code",
   "execution_count": 0,
   "metadata": {
    "colab": {
     "base_uri": "https://localhost:8080/",
     "height": 250
    },
    "colab_type": "code",
    "executionInfo": {
     "elapsed": 134652,
     "status": "ok",
     "timestamp": 1569462202362,
     "user": {
      "displayName": "Aron Forero",
      "photoUrl": "https://lh3.googleusercontent.com/a-/AAuE7mADqC--FsExpomg7Szbjzl1DD9XSkypQABEzpWv4g=s64",
      "userId": "13295970136254896431"
     },
     "user_tz": 300
    },
    "id": "Ha7pQEJAXsrZ",
    "outputId": "13b6d688-8e88-4c34-da17-fcf258e462f6"
   },
   "outputs": [
    {
     "data": {
      "text/html": [
       "<div>\n",
       "<style scoped>\n",
       "    .dataframe tbody tr th:only-of-type {\n",
       "        vertical-align: middle;\n",
       "    }\n",
       "\n",
       "    .dataframe tbody tr th {\n",
       "        vertical-align: top;\n",
       "    }\n",
       "\n",
       "    .dataframe thead th {\n",
       "        text-align: right;\n",
       "    }\n",
       "</style>\n",
       "<table border=\"1\" class=\"dataframe\">\n",
       "  <thead>\n",
       "    <tr style=\"text-align: right;\">\n",
       "      <th></th>\n",
       "      <th>Unnamed: 0</th>\n",
       "      <th>title</th>\n",
       "      <th>label_quality</th>\n",
       "      <th>language</th>\n",
       "      <th>category</th>\n",
       "      <th>length</th>\n",
       "      <th>lemmatized_title</th>\n",
       "      <th>parsed_title</th>\n",
       "    </tr>\n",
       "  </thead>\n",
       "  <tbody>\n",
       "    <tr>\n",
       "      <th>0</th>\n",
       "      <td>0</td>\n",
       "      <td>hidrolavadora lavor one 120 bar 1700w  bomba a...</td>\n",
       "      <td>unreliable</td>\n",
       "      <td>spanish</td>\n",
       "      <td>ELECTRIC_PRESSURE_WASHERS</td>\n",
       "      <td>60</td>\n",
       "      <td>hidrolavadora lavor one 120 bar 1700w  bomba a...</td>\n",
       "      <td>hidrolavadora lavor one 120 bar 1700w  bomba a...</td>\n",
       "    </tr>\n",
       "    <tr>\n",
       "      <th>1</th>\n",
       "      <td>1</td>\n",
       "      <td>placa de sonido - behringer umc22</td>\n",
       "      <td>unreliable</td>\n",
       "      <td>spanish</td>\n",
       "      <td>SOUND_CARDS</td>\n",
       "      <td>33</td>\n",
       "      <td>placa de sonido - behringer umc22</td>\n",
       "      <td>placa  sonido - behringer umc22</td>\n",
       "    </tr>\n",
       "  </tbody>\n",
       "</table>\n",
       "</div>"
      ],
      "text/plain": [
       "   Unnamed: 0  ...                                       parsed_title\n",
       "0           0  ...  hidrolavadora lavor one 120 bar 1700w  bomba a...\n",
       "1           1  ...                    placa  sonido - behringer umc22\n",
       "\n",
       "[2 rows x 8 columns]"
      ]
     },
     "execution_count": 7,
     "metadata": {
      "tags": []
     },
     "output_type": "execute_result"
    }
   ],
   "source": [
    "spanish_data.head(2)"
   ]
  },
  {
   "cell_type": "code",
   "execution_count": 0,
   "metadata": {
    "colab": {},
    "colab_type": "code",
    "id": "yKbsgkitXstq"
   },
   "outputs": [],
   "source": [
    "spanish_data.drop(['Unnamed: 0', 'lemmatized_title', 'length'], axis=1, inplace=True);"
   ]
  },
  {
   "cell_type": "code",
   "execution_count": 0,
   "metadata": {
    "colab": {},
    "colab_type": "code",
    "id": "8fQDVReZDo4Q"
   },
   "outputs": [],
   "source": [
    "portuguese_data.drop(['Unnamed: 0', 'lemmatized_title', 'length'], axis=1, inplace=True);"
   ]
  },
  {
   "cell_type": "code",
   "execution_count": 0,
   "metadata": {
    "colab": {
     "base_uri": "https://localhost:8080/",
     "height": 34
    },
    "colab_type": "code",
    "executionInfo": {
     "elapsed": 132129,
     "status": "ok",
     "timestamp": 1569462204479,
     "user": {
      "displayName": "Aron Forero",
      "photoUrl": "https://lh3.googleusercontent.com/a-/AAuE7mADqC--FsExpomg7Szbjzl1DD9XSkypQABEzpWv4g=s64",
      "userId": "13295970136254896431"
     },
     "user_tz": 300
    },
    "id": "qGVrHDCOBICE",
    "outputId": "cf8fb14a-eb57-4ab8-c7f7-ab265c92505e"
   },
   "outputs": [
    {
     "data": {
      "text/plain": [
       "Index(['title', 'label_quality', 'language', 'category', 'parsed_title'], dtype='object')"
      ]
     },
     "execution_count": 10,
     "metadata": {
      "tags": []
     },
     "output_type": "execute_result"
    }
   ],
   "source": [
    "spanish_data.columns"
   ]
  },
  {
   "cell_type": "code",
   "execution_count": 0,
   "metadata": {
    "colab": {},
    "colab_type": "code",
    "id": "VKjvNcHtFO9T"
   },
   "outputs": [],
   "source": [
    "new_data = pd.concat([spanish_data, portuguese_data])"
   ]
  },
  {
   "cell_type": "code",
   "execution_count": 0,
   "metadata": {
    "colab": {
     "base_uri": "https://localhost:8080/",
     "height": 34
    },
    "colab_type": "code",
    "executionInfo": {
     "elapsed": 131203,
     "status": "ok",
     "timestamp": 1569462206003,
     "user": {
      "displayName": "Aron Forero",
      "photoUrl": "https://lh3.googleusercontent.com/a-/AAuE7mADqC--FsExpomg7Szbjzl1DD9XSkypQABEzpWv4g=s64",
      "userId": "13295970136254896431"
     },
     "user_tz": 300
    },
    "id": "Z2v5kWIuD_t6",
    "outputId": "8a425d05-899a-45b9-fd81-8554a9f8cebb"
   },
   "outputs": [
    {
     "data": {
      "text/plain": [
       "Index(['title', 'label_quality', 'language', 'category', 'parsed_title'], dtype='object')"
      ]
     },
     "execution_count": 12,
     "metadata": {
      "tags": []
     },
     "output_type": "execute_result"
    }
   ],
   "source": [
    "new_data.columns"
   ]
  },
  {
   "cell_type": "code",
   "execution_count": 0,
   "metadata": {
    "colab": {},
    "colab_type": "code",
    "id": "g-alMLauXsvz"
   },
   "outputs": [],
   "source": [
    "new_data['encoded_category'] = label_encoder.fit_transform(new_data['category'])"
   ]
  },
  {
   "cell_type": "code",
   "execution_count": 0,
   "metadata": {
    "colab": {
     "base_uri": "https://localhost:8080/",
     "height": 162
    },
    "colab_type": "code",
    "executionInfo": {
     "elapsed": 124303,
     "status": "ok",
     "timestamp": 1569462210265,
     "user": {
      "displayName": "Aron Forero",
      "photoUrl": "https://lh3.googleusercontent.com/a-/AAuE7mADqC--FsExpomg7Szbjzl1DD9XSkypQABEzpWv4g=s64",
      "userId": "13295970136254896431"
     },
     "user_tz": 300
    },
    "id": "HHiRCoyXANX6",
    "outputId": "d15b11b4-b11c-4da1-c859-6d7cb8e98e4e"
   },
   "outputs": [
    {
     "data": {
      "text/html": [
       "<div>\n",
       "<style scoped>\n",
       "    .dataframe tbody tr th:only-of-type {\n",
       "        vertical-align: middle;\n",
       "    }\n",
       "\n",
       "    .dataframe tbody tr th {\n",
       "        vertical-align: top;\n",
       "    }\n",
       "\n",
       "    .dataframe thead th {\n",
       "        text-align: right;\n",
       "    }\n",
       "</style>\n",
       "<table border=\"1\" class=\"dataframe\">\n",
       "  <thead>\n",
       "    <tr style=\"text-align: right;\">\n",
       "      <th></th>\n",
       "      <th>title</th>\n",
       "      <th>label_quality</th>\n",
       "      <th>language</th>\n",
       "      <th>category</th>\n",
       "      <th>parsed_title</th>\n",
       "      <th>encoded_category</th>\n",
       "    </tr>\n",
       "  </thead>\n",
       "  <tbody>\n",
       "    <tr>\n",
       "      <th>0</th>\n",
       "      <td>hidrolavadora lavor one 120 bar 1700w  bomba a...</td>\n",
       "      <td>unreliable</td>\n",
       "      <td>spanish</td>\n",
       "      <td>ELECTRIC_PRESSURE_WASHERS</td>\n",
       "      <td>hidrolavadora lavor one 120 bar 1700w  bomba a...</td>\n",
       "      <td>544</td>\n",
       "    </tr>\n",
       "    <tr>\n",
       "      <th>1</th>\n",
       "      <td>placa de sonido - behringer umc22</td>\n",
       "      <td>unreliable</td>\n",
       "      <td>spanish</td>\n",
       "      <td>SOUND_CARDS</td>\n",
       "      <td>placa  sonido - behringer umc22</td>\n",
       "      <td>1316</td>\n",
       "    </tr>\n",
       "  </tbody>\n",
       "</table>\n",
       "</div>"
      ],
      "text/plain": [
       "                                               title  ... encoded_category\n",
       "0  hidrolavadora lavor one 120 bar 1700w  bomba a...  ...              544\n",
       "1                  placa de sonido - behringer umc22  ...             1316\n",
       "\n",
       "[2 rows x 6 columns]"
      ]
     },
     "execution_count": 14,
     "metadata": {
      "tags": []
     },
     "output_type": "execute_result"
    }
   ],
   "source": [
    "new_data.head(2)"
   ]
  },
  {
   "cell_type": "code",
   "execution_count": 0,
   "metadata": {
    "colab": {
     "base_uri": "https://localhost:8080/",
     "height": 34
    },
    "colab_type": "code",
    "executionInfo": {
     "elapsed": 122372,
     "status": "ok",
     "timestamp": 1569462210273,
     "user": {
      "displayName": "Aron Forero",
      "photoUrl": "https://lh3.googleusercontent.com/a-/AAuE7mADqC--FsExpomg7Szbjzl1DD9XSkypQABEzpWv4g=s64",
      "userId": "13295970136254896431"
     },
     "user_tz": 300
    },
    "id": "rHlu8EiU_fhN",
    "outputId": "382568ec-555f-45b1-9339-1b5f5bd385bc"
   },
   "outputs": [
    {
     "data": {
      "text/plain": [
       "(1588,)"
      ]
     },
     "execution_count": 15,
     "metadata": {
      "tags": []
     },
     "output_type": "execute_result"
    }
   ],
   "source": [
    "new_data['encoded_category'].value_counts().shape"
   ]
  },
  {
   "cell_type": "code",
   "execution_count": 0,
   "metadata": {
    "colab": {},
    "colab_type": "code",
    "id": "S2tyX-MuP57y"
   },
   "outputs": [],
   "source": [
    "new_data.to_csv(ROOT_PATH + 'Final_Data.csv')"
   ]
  },
  {
   "cell_type": "markdown",
   "metadata": {
    "colab_type": "text",
    "id": "hgAoerxLQqCR"
   },
   "source": [
    "## Spliting the data"
   ]
  },
  {
   "cell_type": "code",
   "execution_count": 0,
   "metadata": {
    "colab": {},
    "colab_type": "code",
    "id": "TB_nHXRgQsoP"
   },
   "outputs": [],
   "source": [
    "new_data = pd.read_csv(ROOT_PATH + 'Final_Data.csv')"
   ]
  },
  {
   "cell_type": "code",
   "execution_count": 0,
   "metadata": {
    "colab": {},
    "colab_type": "code",
    "id": "5P_T6AVLQ_C4"
   },
   "outputs": [],
   "source": [
    "new_data.drop(['Unnamed: 0'], axis=1, inplace=True)"
   ]
  },
  {
   "cell_type": "code",
   "execution_count": 0,
   "metadata": {
    "colab": {},
    "colab_type": "code",
    "id": "oD6rbn6iPtrH"
   },
   "outputs": [],
   "source": [
    "from sklearn.model_selection import train_test_split"
   ]
  },
  {
   "cell_type": "code",
   "execution_count": 0,
   "metadata": {
    "colab": {},
    "colab_type": "code",
    "id": "MNFKqKn0_fos"
   },
   "outputs": [],
   "source": [
    "X_train, X_test, y_train, y_test = train_test_split(new_data['parsed_title'], \n",
    "                                                    new_data['encoded_category'], \n",
    "                                                    test_size=0.05, \n",
    "                                                    random_state=8)"
   ]
  },
  {
   "cell_type": "code",
   "execution_count": 0,
   "metadata": {
    "colab": {},
    "colab_type": "code",
    "id": "SVcXno62WrHc"
   },
   "outputs": [],
   "source": [
    "# del(new_data)"
   ]
  },
  {
   "cell_type": "markdown",
   "metadata": {
    "colab_type": "text",
    "id": "LzrRQwmBFL5R"
   },
   "source": [
    "## Text Representation"
   ]
  },
  {
   "cell_type": "code",
   "execution_count": 0,
   "metadata": {
    "colab": {},
    "colab_type": "code",
    "id": "ih2gywyWFMFN"
   },
   "outputs": [],
   "source": [
    "# Parameter election\n",
    "ngram_range = (1,2)\n",
    "min_df = 5\n",
    "max_df = 0\n",
    "max_features = 300"
   ]
  },
  {
   "cell_type": "code",
   "execution_count": 0,
   "metadata": {
    "colab": {},
    "colab_type": "code",
    "id": "E2spmpnHFMJN"
   },
   "outputs": [],
   "source": [
    "from sklearn.feature_extraction.text import TfidfVectorizer"
   ]
  },
  {
   "cell_type": "code",
   "execution_count": 0,
   "metadata": {
    "colab": {},
    "colab_type": "code",
    "id": "Ni58VYIoFMLt"
   },
   "outputs": [],
   "source": [
    "tfidf = TfidfVectorizer(encoding='utf-8',\n",
    "                        ngram_range=ngram_range,\n",
    "                        stop_words=None,\n",
    "                        lowercase=False,\n",
    "                        max_df=max_df,\n",
    "                        min_df=min_df,\n",
    "                        max_features=max_features,\n",
    "                        norm='l2',\n",
    "                        sublinear_tf=True)"
   ]
  },
  {
   "cell_type": "code",
   "execution_count": 0,
   "metadata": {
    "colab": {},
    "colab_type": "code",
    "id": "IgNM9dbsTkXz"
   },
   "outputs": [],
   "source": [
    "index_null = X_train[X_train.isnull()].index\n",
    "X_train.drop(index_null, axis=0, inplace=True)\n",
    "y_train.drop(index_null, axis=0, inplace=True)"
   ]
  },
  {
   "cell_type": "code",
   "execution_count": 0,
   "metadata": {
    "colab": {},
    "colab_type": "code",
    "id": "6VR5hdjwUaz3"
   },
   "outputs": [],
   "source": [
    "index_null_test = X_test[X_test.isnull()].index\n",
    "X_test.drop(index_null_test, axis=0, inplace=True)\n",
    "y_test.drop(index_null_test, axis=0, inplace=True)"
   ]
  },
  {
   "cell_type": "code",
   "execution_count": 0,
   "metadata": {
    "colab": {},
    "colab_type": "code",
    "id": "ntyZAldhW2UR"
   },
   "outputs": [],
   "source": [
    "# del(index_null)"
   ]
  },
  {
   "cell_type": "code",
   "execution_count": 0,
   "metadata": {
    "colab": {},
    "colab_type": "code",
    "id": "rzWWkDIMW7Oe"
   },
   "outputs": [],
   "source": [
    "# del(index_null_test)"
   ]
  },
  {
   "cell_type": "code",
   "execution_count": 0,
   "metadata": {
    "colab": {},
    "colab_type": "code",
    "id": "jjsKT3bLFMOW"
   },
   "outputs": [],
   "source": [
    "features_train = tfidf.fit_transform(X_train).toarray()\n",
    "print(features_train.shape)"
   ]
  },
  {
   "cell_type": "code",
   "execution_count": 0,
   "metadata": {
    "colab": {},
    "colab_type": "code",
    "id": "WYE3YjfRFMRe"
   },
   "outputs": [],
   "source": [
    "features_test = tfidf.transform(X_test).toarray()\n",
    "print(features_test.shape)"
   ]
  },
  {
   "cell_type": "markdown",
   "metadata": {
    "colab_type": "text",
    "id": "o9qWdn4jTOO6"
   },
   "source": [
    "## Another way\n",
    "\n",
    "no se pueden usar los 20M de datos, por limitaciones de ram"
   ]
  },
  {
   "cell_type": "code",
   "execution_count": 0,
   "metadata": {
    "colab": {},
    "colab_type": "code",
    "id": "Xp72qEfhTOTB"
   },
   "outputs": [],
   "source": [
    "new_data = pd.read_csv(ROOT_PATH + 'Final_Data.csv')"
   ]
  },
  {
   "cell_type": "code",
   "execution_count": 0,
   "metadata": {
    "colab": {},
    "colab_type": "code",
    "id": "ikBze8AQTOWZ"
   },
   "outputs": [],
   "source": [
    "new_data.drop(['Unnamed: 0'], axis=1, inplace=True)"
   ]
  },
  {
   "cell_type": "code",
   "execution_count": 0,
   "metadata": {
    "colab": {},
    "colab_type": "code",
    "id": "QR5ShdYQacKR"
   },
   "outputs": [],
   "source": [
    "reliable_data = new_data.loc[new_data['label_quality'] == 'reliable']"
   ]
  },
  {
   "cell_type": "code",
   "execution_count": 0,
   "metadata": {
    "colab": {},
    "colab_type": "code",
    "id": "rYWFDHmPbL77"
   },
   "outputs": [],
   "source": [
    "all_cats = set(new_data['encoded_category'].value_counts().index)\n",
    "reli_cats = set(reliable_data['encoded_category'].value_counts().index)"
   ]
  },
  {
   "cell_type": "code",
   "execution_count": 0,
   "metadata": {
    "colab": {
     "base_uri": "https://localhost:8080/",
     "height": 34
    },
    "colab_type": "code",
    "executionInfo": {
     "elapsed": 3410,
     "status": "ok",
     "timestamp": 1569465621366,
     "user": {
      "displayName": "Aron Forero",
      "photoUrl": "https://lh3.googleusercontent.com/a-/AAuE7mADqC--FsExpomg7Szbjzl1DD9XSkypQABEzpWv4g=s64",
      "userId": "13295970136254896431"
     },
     "user_tz": 300
    },
    "id": "b2gxHZPsbzAs",
    "outputId": "5de92ae5-0e27-4258-bcaf-0204a6da0d31"
   },
   "outputs": [
    {
     "data": {
      "text/plain": [
       "193"
      ]
     },
     "execution_count": 19,
     "metadata": {
      "tags": []
     },
     "output_type": "execute_result"
    }
   ],
   "source": [
    "len(all_cats) - len(reli_cats)"
   ]
  },
  {
   "cell_type": "code",
   "execution_count": 0,
   "metadata": {
    "colab": {
     "base_uri": "https://localhost:8080/",
     "height": 34
    },
    "colab_type": "code",
    "executionInfo": {
     "elapsed": 3410,
     "status": "ok",
     "timestamp": 1569465631557,
     "user": {
      "displayName": "Aron Forero",
      "photoUrl": "https://lh3.googleusercontent.com/a-/AAuE7mADqC--FsExpomg7Szbjzl1DD9XSkypQABEzpWv4g=s64",
      "userId": "13295970136254896431"
     },
     "user_tz": 300
    },
    "id": "5VyQyXQhbkAv",
    "outputId": "9a9faca9-2059-4419-a164-4cb8376e6b0f"
   },
   "outputs": [
    {
     "data": {
      "text/plain": [
       "193"
      ]
     },
     "execution_count": 20,
     "metadata": {
      "tags": []
     },
     "output_type": "execute_result"
    }
   ],
   "source": [
    "extra_cats = all_cats - reli_cats\n",
    "len(extra_cats)"
   ]
  },
  {
   "cell_type": "code",
   "execution_count": 0,
   "metadata": {
    "colab": {},
    "colab_type": "code",
    "id": "0u1B2079cQ0P"
   },
   "outputs": [],
   "source": [
    "for cat in extra_cats:\n",
    "  df_slice = new_data.loc[new_data['encoded_category'] == cat]\n",
    "  reliable_data = pd.concat([reliable_data, df_slice])"
   ]
  },
  {
   "cell_type": "code",
   "execution_count": 0,
   "metadata": {
    "colab": {
     "base_uri": "https://localhost:8080/",
     "height": 34
    },
    "colab_type": "code",
    "executionInfo": {
     "elapsed": 1116,
     "status": "ok",
     "timestamp": 1569466032629,
     "user": {
      "displayName": "Aron Forero",
      "photoUrl": "https://lh3.googleusercontent.com/a-/AAuE7mADqC--FsExpomg7Szbjzl1DD9XSkypQABEzpWv4g=s64",
      "userId": "13295970136254896431"
     },
     "user_tz": 300
    },
    "id": "IRfPs4XNcQ9I",
    "outputId": "bfb64350-7d9e-4a24-aca0-bc2a639bd481"
   },
   "outputs": [
    {
     "data": {
      "text/plain": [
       "(2386304, 6)"
      ]
     },
     "execution_count": 31,
     "metadata": {
      "tags": []
     },
     "output_type": "execute_result"
    }
   ],
   "source": [
    "reliable_data.shape"
   ]
  },
  {
   "cell_type": "code",
   "execution_count": 0,
   "metadata": {
    "colab": {},
    "colab_type": "code",
    "id": "dC6Kq6v-cREY"
   },
   "outputs": [],
   "source": [
    "reliable_data.to_csv(ROOT_PATH + 'full_reliable_data.csv')"
   ]
  },
  {
   "cell_type": "markdown",
   "metadata": {
    "colab_type": "text",
    "id": "FjSloxU9cRA7"
   },
   "source": [
    "## New Data import"
   ]
  },
  {
   "cell_type": "code",
   "execution_count": 0,
   "metadata": {
    "colab": {},
    "colab_type": "code",
    "id": "YDO8Eh-LfByE"
   },
   "outputs": [],
   "source": [
    "reliable_data = pd.read_csv(ROOT_PATH + 'full_reliable_data.csv')"
   ]
  },
  {
   "cell_type": "code",
   "execution_count": 0,
   "metadata": {
    "colab": {},
    "colab_type": "code",
    "id": "5VvD4-MrfHFh"
   },
   "outputs": [],
   "source": [
    "reliable_data.drop(['Unnamed: 0'], axis=1, inplace=True)"
   ]
  },
  {
   "cell_type": "code",
   "execution_count": 7,
   "metadata": {
    "colab": {
     "base_uri": "https://localhost:8080/",
     "height": 34
    },
    "colab_type": "code",
    "executionInfo": {
     "elapsed": 758,
     "status": "ok",
     "timestamp": 1569502755451,
     "user": {
      "displayName": "Aron Forero",
      "photoUrl": "https://lh3.googleusercontent.com/a-/AAuE7mADqC--FsExpomg7Szbjzl1DD9XSkypQABEzpWv4g=s64",
      "userId": "13295970136254896431"
     },
     "user_tz": 300
    },
    "id": "bp0Ex7gLfHH_",
    "outputId": "11671919-d7d8-4c25-a7b4-ec6029a86bb7"
   },
   "outputs": [
    {
     "data": {
      "text/plain": [
       "(2386304, 6)"
      ]
     },
     "execution_count": 7,
     "metadata": {
      "tags": []
     },
     "output_type": "execute_result"
    }
   ],
   "source": [
    "reliable_data.shape"
   ]
  },
  {
   "cell_type": "code",
   "execution_count": 0,
   "metadata": {
    "colab": {},
    "colab_type": "code",
    "id": "hakGHkZrTOZu"
   },
   "outputs": [],
   "source": [
    "from sklearn.model_selection import train_test_split"
   ]
  },
  {
   "cell_type": "code",
   "execution_count": 0,
   "metadata": {
    "colab": {},
    "colab_type": "code",
    "id": "wWut0B1ATOfX"
   },
   "outputs": [],
   "source": [
    "X_train, X_test, y_train, y_test = train_test_split(reliable_data['parsed_title'], \n",
    "                                                    reliable_data['encoded_category'], \n",
    "                                                    test_size=0.15, \n",
    "                                                    random_state=8)"
   ]
  },
  {
   "cell_type": "markdown",
   "metadata": {
    "colab_type": "text",
    "id": "jjAqYipcTOip"
   },
   "source": [
    "## Text Representation AGAIN"
   ]
  },
  {
   "cell_type": "code",
   "execution_count": 0,
   "metadata": {
    "colab": {},
    "colab_type": "code",
    "id": "p901F2cdTOlv"
   },
   "outputs": [],
   "source": [
    "# Parameter election\n",
    "ngram_range = (1,2)\n",
    "min_df = 0\n",
    "max_df = 5\n",
    "max_features = 20"
   ]
  },
  {
   "cell_type": "code",
   "execution_count": 0,
   "metadata": {
    "colab": {},
    "colab_type": "code",
    "id": "KlcBY4goTOpJ"
   },
   "outputs": [],
   "source": [
    "from sklearn.feature_extraction.text import TfidfVectorizer"
   ]
  },
  {
   "cell_type": "code",
   "execution_count": 0,
   "metadata": {
    "colab": {},
    "colab_type": "code",
    "id": "TXzg7rA6TOco"
   },
   "outputs": [],
   "source": [
    "tfidf = TfidfVectorizer(encoding='utf-8',\n",
    "                        ngram_range=ngram_range,\n",
    "                        stop_words=None,\n",
    "                        lowercase=False,\n",
    "                        max_df=max_df,\n",
    "                        min_df=min_df,\n",
    "                        max_features=max_features,\n",
    "                        norm='l2',\n",
    "                        sublinear_tf=True)"
   ]
  },
  {
   "cell_type": "markdown",
   "metadata": {
    "colab_type": "text",
    "id": "y-iRBVA6gXVN"
   },
   "source": [
    "Eliminamos los valores null"
   ]
  },
  {
   "cell_type": "code",
   "execution_count": 0,
   "metadata": {
    "colab": {},
    "colab_type": "code",
    "id": "_CzuwilEgJkU"
   },
   "outputs": [],
   "source": [
    "index_null = X_train[X_train.isnull()].index\n",
    "X_train.drop(index_null, axis=0, inplace=True)\n",
    "y_train.drop(index_null, axis=0, inplace=True)"
   ]
  },
  {
   "cell_type": "code",
   "execution_count": 0,
   "metadata": {
    "colab": {},
    "colab_type": "code",
    "id": "_HyjQbxkgJ1u"
   },
   "outputs": [],
   "source": [
    "index_null_test = X_test[X_test.isnull()].index\n",
    "X_test.drop(index_null_test, axis=0, inplace=True)\n",
    "y_test.drop(index_null_test, axis=0, inplace=True)"
   ]
  },
  {
   "cell_type": "markdown",
   "metadata": {
    "colab_type": "text",
    "id": "riKQbDPJgJ5A"
   },
   "source": [
    "Hacemos los fit transform y transform necesarios para extraer las caracteristicas"
   ]
  },
  {
   "cell_type": "code",
   "execution_count": 19,
   "metadata": {
    "colab": {
     "base_uri": "https://localhost:8080/",
     "height": 34
    },
    "colab_type": "code",
    "executionInfo": {
     "elapsed": 75916,
     "status": "ok",
     "timestamp": 1569504226158,
     "user": {
      "displayName": "Aron Forero",
      "photoUrl": "https://lh3.googleusercontent.com/a-/AAuE7mADqC--FsExpomg7Szbjzl1DD9XSkypQABEzpWv4g=s64",
      "userId": "13295970136254896431"
     },
     "user_tz": 300
    },
    "id": "QmN5xy1NgJ-7",
    "outputId": "25340557-924a-4861-cf5c-744961aa3589"
   },
   "outputs": [
    {
     "name": "stdout",
     "output_type": "stream",
     "text": [
      "(2028357, 20)\n"
     ]
    }
   ],
   "source": [
    "features_train = tfidf.fit_transform(X_train).toarray()\n",
    "labels_train = y_train\n",
    "print(features_train.shape)"
   ]
  },
  {
   "cell_type": "code",
   "execution_count": 20,
   "metadata": {
    "colab": {
     "base_uri": "https://localhost:8080/",
     "height": 34
    },
    "colab_type": "code",
    "executionInfo": {
     "elapsed": 80437,
     "status": "ok",
     "timestamp": 1569504231202,
     "user": {
      "displayName": "Aron Forero",
      "photoUrl": "https://lh3.googleusercontent.com/a-/AAuE7mADqC--FsExpomg7Szbjzl1DD9XSkypQABEzpWv4g=s64",
      "userId": "13295970136254896431"
     },
     "user_tz": 300
    },
    "id": "4Ncdo-tIgJ8h",
    "outputId": "cce4d00f-f6b7-4a92-fe1d-29191deacc59"
   },
   "outputs": [
    {
     "name": "stdout",
     "output_type": "stream",
     "text": [
      "(357946, 20)\n"
     ]
    }
   ],
   "source": [
    "features_test = tfidf.transform(X_test).toarray()\n",
    "labels_test = y_test\n",
    "print(features_test.shape)"
   ]
  },
  {
   "cell_type": "code",
   "execution_count": 0,
   "metadata": {
    "colab": {},
    "colab_type": "code",
    "id": "JetXrE_ggnzv"
   },
   "outputs": [],
   "source": [
    "import pickle"
   ]
  },
  {
   "cell_type": "markdown",
   "metadata": {
    "colab_type": "text",
    "id": "XNWhp5ppuS0q"
   },
   "source": [
    "Saving the files as Pickles"
   ]
  },
  {
   "cell_type": "code",
   "execution_count": 0,
   "metadata": {
    "colab": {},
    "colab_type": "code",
    "id": "MYdvXRujgnxR"
   },
   "outputs": [],
   "source": [
    "# X_train\n",
    "with open(ROOT_PATH + 'pickles_reliable_data/X_train.pickle', 'wb') as output:\n",
    "    pickle.dump(X_train, output)\n",
    "    \n",
    "# X_test    \n",
    "with open(ROOT_PATH + 'pickles_reliable_data/X_test.pickle', 'wb') as output:\n",
    "    pickle.dump(X_test, output)\n",
    "    \n",
    "# y_train\n",
    "with open(ROOT_PATH + 'pickles_reliable_data/y_train.pickle', 'wb') as output:\n",
    "    pickle.dump(y_train, output)\n",
    "    \n",
    "# y_test\n",
    "with open(ROOT_PATH + 'pickles_reliable_data/y_test.pickle', 'wb') as output:\n",
    "    pickle.dump(y_test, output)\n",
    "    \n",
    "# features_train\n",
    "with open(ROOT_PATH + 'pickles_reliable_data/features_train.pickle', 'wb') as output:\n",
    "    pickle.dump(features_train, output)\n",
    "\n",
    "# labels_train\n",
    "with open(ROOT_PATH + 'pickles_reliable_data/labels_train.pickle', 'wb') as output:\n",
    "    pickle.dump(labels_train, output)\n",
    "\n",
    "# features_test\n",
    "with open(ROOT_PATH + 'pickles_reliable_data/features_test.pickle', 'wb') as output:\n",
    "    pickle.dump(features_test, output)\n",
    "\n",
    "# labels_test\n",
    "with open(ROOT_PATH + 'pickles_reliable_data/labels_test.pickle', 'wb') as output:\n",
    "    pickle.dump(labels_test, output)\n",
    "    \n",
    "# TF-IDF object\n",
    "with open(ROOT_PATH + 'pickles_reliable_data/tfidf.pickle', 'wb') as output:\n",
    "    pickle.dump(tfidf, output)"
   ]
  }
 ],
 "metadata": {
  "colab": {
   "collapsed_sections": [
    "o9qWdn4jTOO6"
   ],
   "name": "Feature_Engineering.ipynb",
   "provenance": [],
   "toc_visible": true
  },
  "kernelspec": {
   "display_name": "Python 3",
   "language": "python",
   "name": "python3"
  },
  "language_info": {
   "codemirror_mode": {
    "name": "ipython",
    "version": 3
   },
   "file_extension": ".py",
   "mimetype": "text/x-python",
   "name": "python",
   "nbconvert_exporter": "python",
   "pygments_lexer": "ipython3",
   "version": "3.7.3"
  }
 },
 "nbformat": 4,
 "nbformat_minor": 1
}
